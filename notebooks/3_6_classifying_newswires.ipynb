{
 "cells": [
  {
   "cell_type": "code",
   "execution_count": 1,
   "metadata": {
    "colab": {
     "base_uri": "https://localhost:8080/",
     "height": 52
    },
    "colab_type": "code",
    "id": "Qp01e8wlo_vA",
    "outputId": "679ff539-d607-4ae8-90fd-6b141d9201e3"
   },
   "outputs": [
    {
     "name": "stderr",
     "output_type": "stream",
     "text": [
      "Using TensorFlow backend.\n"
     ]
    },
    {
     "data": {
      "text/plain": [
       "'2.3.1'"
      ]
     },
     "execution_count": 1,
     "metadata": {
      "tags": []
     },
     "output_type": "execute_result"
    }
   ],
   "source": [
    "import keras\n",
    "keras.__version__"
   ]
  },
  {
   "cell_type": "markdown",
   "metadata": {
    "colab_type": "text",
    "id": "72yTw-7bqPSc"
   },
   "source": [
    "This notebook contains the code samples found in Chapter 3, Section 5 of Deep Learning with Python. Note that the original text features far more content, in particular further explanations and figures: in this notebook, you will only find source code and related comments.\n",
    "\n",
    "\n"
   ]
  },
  {
   "cell_type": "markdown",
   "metadata": {
    "colab_type": "text",
    "id": "KwLYcX94pGlK"
   },
   "source": [
    "# Classifying newswires: a multi-class classification example"
   ]
  },
  {
   "cell_type": "markdown",
   "metadata": {
    "colab_type": "text",
    "id": "ChQjlWQUqcZV"
   },
   "source": [
    "In the previous section we saw how to classify vector inputs into two mutually exclusive classes using a densely-connected neural network. But what happens when you have more than two classes?\n",
    "\n",
    "In this section, we will build a network to classify Reuters newswires into 46 different mutually-exclusive topics. Since we have many classes, this problem is an instance of \"multi-class classification\", and since each data point should be classified into only one category, the problem is more specifically an instance of \"single-label, multi-class classification\". If each data point could have belonged to multiple categories (in our case, topics) then we would be facing a \"multi-label, multi-class classification\" problem.\n"
   ]
  },
  {
   "cell_type": "code",
   "execution_count": null,
   "metadata": {
    "colab": {},
    "colab_type": "code",
    "id": "M5GVv0XtpHoX"
   },
   "outputs": [],
   "source": []
  },
  {
   "cell_type": "markdown",
   "metadata": {
    "colab_type": "text",
    "id": "p93wY7KjqgQa"
   },
   "source": [
    "# The Reuters datase"
   ]
  },
  {
   "cell_type": "markdown",
   "metadata": {
    "colab_type": "text",
    "id": "Sd9iUhrIqjn-"
   },
   "source": [
    "We will be working with the Reuters dataset, a set of short newswires and their topics, published by Reuters in 1986. It's a very simple, widely used toy dataset for text classification. There are 46 different topics; some topics are more represented than others, but each topic has at least 10 examples in the training set.\n",
    "\n",
    "Like IMDB and MNIST, the Reuters dataset comes packaged as part of Keras. Let's take a look right away:"
   ]
  },
  {
   "cell_type": "code",
   "execution_count": 2,
   "metadata": {
    "colab": {
     "base_uri": "https://localhost:8080/",
     "height": 51
    },
    "colab_type": "code",
    "id": "ynitWlXxqlgt",
    "outputId": "5ec346a4-2415-431e-8fb6-8f6447d44d4d"
   },
   "outputs": [
    {
     "name": "stdout",
     "output_type": "stream",
     "text": [
      "Downloading data from https://s3.amazonaws.com/text-datasets/reuters.npz\n",
      "2113536/2110848 [==============================] - 0s 0us/step\n"
     ]
    }
   ],
   "source": [
    "from keras.datasets import reuters\n",
    "\n",
    "(train_data, train_labels), (test_data, test_labels) = reuters.load_data(num_words=10000)"
   ]
  },
  {
   "cell_type": "markdown",
   "metadata": {
    "colab_type": "text",
    "id": "NfIJTSFYqsVA"
   },
   "source": [
    "Like with the IMDB dataset, the argument num_words=10000 restricts the data to the 10,000 most frequently occurring words found in the data.\n",
    "\n",
    "We have 8,982 training examples and 2,246 test examples:"
   ]
  },
  {
   "cell_type": "code",
   "execution_count": 3,
   "metadata": {
    "colab": {
     "base_uri": "https://localhost:8080/",
     "height": 34
    },
    "colab_type": "code",
    "id": "5mIRc9oOqof_",
    "outputId": "33ec152d-6f7c-4fc3-811c-ef1a8ff6ccdd"
   },
   "outputs": [
    {
     "data": {
      "text/plain": [
       "8982"
      ]
     },
     "execution_count": 3,
     "metadata": {
      "tags": []
     },
     "output_type": "execute_result"
    }
   ],
   "source": [
    "len(train_data)"
   ]
  },
  {
   "cell_type": "code",
   "execution_count": 4,
   "metadata": {
    "colab": {
     "base_uri": "https://localhost:8080/",
     "height": 34
    },
    "colab_type": "code",
    "id": "g_0zMb3UqwDC",
    "outputId": "5ffdafd7-dbc9-40da-a09f-f264116bc995"
   },
   "outputs": [
    {
     "data": {
      "text/plain": [
       "2246"
      ]
     },
     "execution_count": 4,
     "metadata": {
      "tags": []
     },
     "output_type": "execute_result"
    }
   ],
   "source": [
    "len(test_data)"
   ]
  },
  {
   "cell_type": "markdown",
   "metadata": {
    "colab_type": "text",
    "id": "jgMrb0I3q1Ch"
   },
   "source": [
    "As with the IMDB reviews, each example is a list of integers (word indices):"
   ]
  },
  {
   "cell_type": "code",
   "execution_count": 8,
   "metadata": {
    "colab": {
     "base_uri": "https://localhost:8080/",
     "height": 544
    },
    "colab_type": "code",
    "id": "eziAE3R9qybs",
    "outputId": "6ec0cd57-0f99-4651-bced-f36bd4911479"
   },
   "outputs": [
    {
     "data": {
      "text/plain": [
       "[1,\n",
       " 245,\n",
       " 273,\n",
       " 207,\n",
       " 156,\n",
       " 53,\n",
       " 74,\n",
       " 160,\n",
       " 26,\n",
       " 14,\n",
       " 46,\n",
       " 296,\n",
       " 26,\n",
       " 39,\n",
       " 74,\n",
       " 2979,\n",
       " 3554,\n",
       " 14,\n",
       " 46,\n",
       " 4689,\n",
       " 4329,\n",
       " 86,\n",
       " 61,\n",
       " 3499,\n",
       " 4795,\n",
       " 14,\n",
       " 61,\n",
       " 451,\n",
       " 4329,\n",
       " 17,\n",
       " 12]"
      ]
     },
     "execution_count": 8,
     "metadata": {
      "tags": []
     },
     "output_type": "execute_result"
    }
   ],
   "source": [
    "train_data[10]"
   ]
  },
  {
   "cell_type": "code",
   "execution_count": 9,
   "metadata": {
    "colab": {
     "base_uri": "https://localhost:8080/",
     "height": 51
    },
    "colab_type": "code",
    "id": "dpQO5QRZq7io",
    "outputId": "d8fd4a2c-7ec3-4f8a-af72-35ff408e36fb"
   },
   "outputs": [
    {
     "name": "stdout",
     "output_type": "stream",
     "text": [
      "Downloading data from https://s3.amazonaws.com/text-datasets/reuters_word_index.json\n",
      "557056/550378 [==============================] - 0s 0us/step\n"
     ]
    }
   ],
   "source": [
    "word_index = reuters.get_word_index()\n",
    "reverse_word_index = dict([(value, key) for (key, value) in word_index.items()])\n",
    "# Note that our indices were offset by 3\n",
    "# because 0, 1 and 2 are reserved indices for \"padding\", \"start of sequence\", and \"unknown\".\n",
    "decoded_newswire = ' '.join([reverse_word_index.get(i - 3, '?') for i in train_data[0]])"
   ]
  },
  {
   "cell_type": "code",
   "execution_count": 10,
   "metadata": {
    "colab": {
     "base_uri": "https://localhost:8080/",
     "height": 69
    },
    "colab_type": "code",
    "id": "O8PR9W8IrKXb",
    "outputId": "37e0bf53-8ed3-456b-9583-f6dbfe021e8b"
   },
   "outputs": [
    {
     "data": {
      "text/plain": [
       "'? ? ? said as a result of its december acquisition of space co it expects earnings per share in 1987 of 1 15 to 1 30 dlrs per share up from 70 cts in 1986 the company said pretax net should rise to nine to 10 mln dlrs from six mln dlrs in 1986 and rental operation revenues to 19 to 22 mln dlrs from 12 5 mln dlrs it said cash flow per share this year should be 2 50 to three dlrs reuter 3'"
      ]
     },
     "execution_count": 10,
     "metadata": {
      "tags": []
     },
     "output_type": "execute_result"
    }
   ],
   "source": [
    "decoded_newswire"
   ]
  },
  {
   "cell_type": "code",
   "execution_count": 13,
   "metadata": {
    "colab": {
     "base_uri": "https://localhost:8080/",
     "height": 34
    },
    "colab_type": "code",
    "id": "b_ij3QU_rN46",
    "outputId": "1a5616d6-278f-4f26-d749-7db896f775ae"
   },
   "outputs": [
    {
     "data": {
      "text/plain": [
       "3"
      ]
     },
     "execution_count": 13,
     "metadata": {
      "tags": []
     },
     "output_type": "execute_result"
    }
   ],
   "source": [
    "# The label associated with an example is an integer between 0 and 45: a topic index.\n",
    "train_labels[10]"
   ]
  },
  {
   "cell_type": "code",
   "execution_count": null,
   "metadata": {
    "colab": {},
    "colab_type": "code",
    "id": "k3MfrMT0rQOa"
   },
   "outputs": [],
   "source": []
  },
  {
   "cell_type": "markdown",
   "metadata": {
    "colab_type": "text",
    "id": "ryuiN-dQra8l"
   },
   "source": [
    "# Preparing the data"
   ]
  },
  {
   "cell_type": "code",
   "execution_count": 15,
   "metadata": {
    "colab": {},
    "colab_type": "code",
    "id": "lyHk7ds8rcC2"
   },
   "outputs": [],
   "source": [
    "import numpy as np\n",
    "\n",
    "def vectorize_sequences(sequences, dimension=10000):\n",
    "    results = np.zeros((len(sequences), dimension))\n",
    "    for i, sequence in enumerate(sequences):\n",
    "        results[i, sequence] = 1.\n",
    "    return results\n",
    "\n",
    "# Our vectorized training data\n",
    "x_train = vectorize_sequences(train_data)\n",
    "# Our vectorized test data\n",
    "x_test = vectorize_sequences(test_data)"
   ]
  },
  {
   "cell_type": "markdown",
   "metadata": {
    "colab_type": "text",
    "id": "2vTx8ugwrvbX"
   },
   "source": [
    "To vectorize the labels, there are two possibilities: we could just cast the label list as an integer tensor, or we could use a \"one-hot\" encoding. One-hot encoding is a widely used format for categorical data, also called \"categorical encoding\""
   ]
  },
  {
   "cell_type": "markdown",
   "metadata": {
    "colab_type": "text",
    "id": "2Dx3mZOIxZoN"
   },
   "source": [
    "One hot encoding of labels"
   ]
  },
  {
   "cell_type": "code",
   "execution_count": 16,
   "metadata": {
    "colab": {},
    "colab_type": "code",
    "id": "OAKwF5errjSS"
   },
   "outputs": [],
   "source": [
    "from keras.utils.np_utils import to_categorical\n",
    "\n",
    "one_hot_train_labels = to_categorical(train_labels)\n",
    "one_hot_test_labels = to_categorical(test_labels)"
   ]
  },
  {
   "cell_type": "code",
   "execution_count": 49,
   "metadata": {
    "colab": {
     "base_uri": "https://localhost:8080/",
     "height": 136
    },
    "colab_type": "code",
    "id": "iMIkNvBbr5nl",
    "outputId": "05f88b14-606d-42c7-d067-c3a86e964823"
   },
   "outputs": [
    {
     "data": {
      "text/plain": [
       "array([[0., 0., 0., ..., 0., 0., 0.],\n",
       "       [0., 0., 0., ..., 0., 0., 0.],\n",
       "       [0., 0., 0., ..., 0., 0., 0.],\n",
       "       ...,\n",
       "       [0., 0., 0., ..., 0., 0., 0.],\n",
       "       [0., 0., 0., ..., 0., 0., 0.],\n",
       "       [0., 0., 0., ..., 0., 0., 0.]], dtype=float32)"
      ]
     },
     "execution_count": 49,
     "metadata": {
      "tags": []
     },
     "output_type": "execute_result"
    }
   ],
   "source": [
    "one_hot_train_labels"
   ]
  },
  {
   "cell_type": "markdown",
   "metadata": {
    "colab_type": "text",
    "id": "epYSbmLhsAy9"
   },
   "source": [
    "# Building our network"
   ]
  },
  {
   "cell_type": "markdown",
   "metadata": {
    "colab_type": "text",
    "id": "X3k9qPXpsUc2"
   },
   "source": [
    "This topic classification problem looks very similar to our previous movie review classification problem: in both cases, we are trying to classify short snippets of text. There is however a new constraint here: the number of output classes has gone from 2 to 46, i.e. the dimensionality of the output space is much larger.\n",
    "\n",
    "\n",
    "In a stack of Dense layers like what we were using, each layer can only access information present in the output of the previous layer. If one layer drops some information relevant to the classification problem, this information can never be recovered by later layers: each layer can potentially become an \"information bottleneck\". In our previous example, we were using 16-dimensional intermediate layers, but a 16-dimensional space may be too limited to learn to separate 46 different classes: such small layers may act as information bottlenecks, permanently dropping relevant information.\n",
    "\n",
    "For this reason we will use larger layers. Let's go with 64 units:"
   ]
  },
  {
   "cell_type": "code",
   "execution_count": 18,
   "metadata": {
    "colab": {
     "base_uri": "https://localhost:8080/",
     "height": 255
    },
    "colab_type": "code",
    "id": "7krr-1-tsBii",
    "outputId": "d52221c7-9f48-4d0f-af1b-e08f76d03bf0"
   },
   "outputs": [
    {
     "name": "stdout",
     "output_type": "stream",
     "text": [
      "Model: \"sequential_2\"\n",
      "_________________________________________________________________\n",
      "Layer (type)                 Output Shape              Param #   \n",
      "=================================================================\n",
      "dense_4 (Dense)              (None, 64)                640064    \n",
      "_________________________________________________________________\n",
      "dense_5 (Dense)              (None, 64)                4160      \n",
      "_________________________________________________________________\n",
      "dense_6 (Dense)              (None, 46)                2990      \n",
      "=================================================================\n",
      "Total params: 647,214\n",
      "Trainable params: 647,214\n",
      "Non-trainable params: 0\n",
      "_________________________________________________________________\n"
     ]
    }
   ],
   "source": [
    "from keras import models\n",
    "from keras import layers\n",
    "\n",
    "model = models.Sequential()\n",
    "model.add(layers.Dense(64, activation='relu', input_shape=(10000,)))\n",
    "model.add(layers.Dense(64, activation='relu'))\n",
    "model.add(layers.Dense(46, activation='softmax'))\n",
    "\n",
    "model.summary()"
   ]
  },
  {
   "cell_type": "code",
   "execution_count": 19,
   "metadata": {
    "colab": {},
    "colab_type": "code",
    "id": "zzqZTAH9s1ct"
   },
   "outputs": [],
   "source": [
    "model.compile(optimizer='rmsprop',\n",
    "              loss='categorical_crossentropy',\n",
    "              metrics=['accuracy'])"
   ]
  },
  {
   "cell_type": "markdown",
   "metadata": {
    "colab_type": "text",
    "id": "oA_UI0QQtqBV"
   },
   "source": [
    "# Validating our approach"
   ]
  },
  {
   "cell_type": "code",
   "execution_count": 20,
   "metadata": {
    "colab": {},
    "colab_type": "code",
    "id": "-61WuYwFtdzq"
   },
   "outputs": [],
   "source": [
    "#Let's set apart 1,000 samples in our training data to use as a validation set:\n",
    "x_val = x_train[:1000]\n",
    "partial_x_train = x_train[1000:]\n",
    "\n",
    "y_val = one_hot_train_labels[:1000]\n",
    "partial_y_train = one_hot_train_labels[1000:]"
   ]
  },
  {
   "cell_type": "code",
   "execution_count": 21,
   "metadata": {
    "colab": {
     "base_uri": "https://localhost:8080/",
     "height": 34
    },
    "colab_type": "code",
    "id": "4-MBDYWwtvgc",
    "outputId": "7f94399c-c307-40b1-f67d-5f7049ded145"
   },
   "outputs": [
    {
     "data": {
      "text/plain": [
       "array([ 3,  4,  3, ..., 25,  3, 25])"
      ]
     },
     "execution_count": 21,
     "metadata": {
      "tags": []
     },
     "output_type": "execute_result"
    }
   ],
   "source": [
    "train_labels"
   ]
  },
  {
   "cell_type": "code",
   "execution_count": 22,
   "metadata": {
    "colab": {
     "base_uri": "https://localhost:8080/",
     "height": 714
    },
    "colab_type": "code",
    "id": "nupFYUF2tzg1",
    "outputId": "f78efef1-41bb-49fb-e763-3c5329148339"
   },
   "outputs": [
    {
     "name": "stdout",
     "output_type": "stream",
     "text": [
      "Train on 7982 samples, validate on 1000 samples\n",
      "Epoch 1/20\n",
      "7982/7982 [==============================] - 1s 154us/step - loss: 2.5515 - accuracy: 0.5170 - val_loss: 1.7040 - val_accuracy: 0.6440\n",
      "Epoch 2/20\n",
      "7982/7982 [==============================] - 1s 114us/step - loss: 1.3931 - accuracy: 0.7187 - val_loss: 1.2813 - val_accuracy: 0.7310\n",
      "Epoch 3/20\n",
      "7982/7982 [==============================] - 1s 114us/step - loss: 1.0345 - accuracy: 0.7821 - val_loss: 1.1139 - val_accuracy: 0.7620\n",
      "Epoch 4/20\n",
      "7982/7982 [==============================] - 1s 114us/step - loss: 0.8153 - accuracy: 0.8261 - val_loss: 1.0421 - val_accuracy: 0.7760\n",
      "Epoch 5/20\n",
      "7982/7982 [==============================] - 1s 113us/step - loss: 0.6527 - accuracy: 0.8632 - val_loss: 0.9614 - val_accuracy: 0.8000\n",
      "Epoch 6/20\n",
      "7982/7982 [==============================] - 1s 115us/step - loss: 0.5205 - accuracy: 0.8938 - val_loss: 0.9294 - val_accuracy: 0.8110\n",
      "Epoch 7/20\n",
      "7982/7982 [==============================] - 1s 116us/step - loss: 0.4216 - accuracy: 0.9147 - val_loss: 0.8963 - val_accuracy: 0.8110\n",
      "Epoch 8/20\n",
      "7982/7982 [==============================] - 1s 116us/step - loss: 0.3402 - accuracy: 0.9281 - val_loss: 0.9086 - val_accuracy: 0.8110\n",
      "Epoch 9/20\n",
      "7982/7982 [==============================] - 1s 117us/step - loss: 0.2881 - accuracy: 0.9376 - val_loss: 0.9139 - val_accuracy: 0.8150\n",
      "Epoch 10/20\n",
      "7982/7982 [==============================] - 1s 116us/step - loss: 0.2378 - accuracy: 0.9456 - val_loss: 0.9412 - val_accuracy: 0.8050\n",
      "Epoch 11/20\n",
      "7982/7982 [==============================] - 1s 116us/step - loss: 0.2107 - accuracy: 0.9503 - val_loss: 0.9228 - val_accuracy: 0.8150\n",
      "Epoch 12/20\n",
      "7982/7982 [==============================] - 1s 117us/step - loss: 0.1799 - accuracy: 0.9505 - val_loss: 0.9502 - val_accuracy: 0.8150\n",
      "Epoch 13/20\n",
      "7982/7982 [==============================] - 1s 116us/step - loss: 0.1661 - accuracy: 0.9535 - val_loss: 0.9881 - val_accuracy: 0.8170\n",
      "Epoch 14/20\n",
      "7982/7982 [==============================] - 1s 116us/step - loss: 0.1493 - accuracy: 0.9551 - val_loss: 0.9780 - val_accuracy: 0.8120\n",
      "Epoch 15/20\n",
      "7982/7982 [==============================] - 1s 116us/step - loss: 0.1396 - accuracy: 0.9558 - val_loss: 1.0266 - val_accuracy: 0.8030\n",
      "Epoch 16/20\n",
      "7982/7982 [==============================] - 1s 117us/step - loss: 0.1321 - accuracy: 0.9572 - val_loss: 1.0412 - val_accuracy: 0.8090\n",
      "Epoch 17/20\n",
      "7982/7982 [==============================] - 1s 117us/step - loss: 0.1301 - accuracy: 0.9568 - val_loss: 1.0408 - val_accuracy: 0.8110\n",
      "Epoch 18/20\n",
      "7982/7982 [==============================] - 1s 116us/step - loss: 0.1208 - accuracy: 0.9546 - val_loss: 1.0911 - val_accuracy: 0.8030\n",
      "Epoch 19/20\n",
      "7982/7982 [==============================] - 1s 116us/step - loss: 0.1135 - accuracy: 0.9577 - val_loss: 1.0554 - val_accuracy: 0.8070\n",
      "Epoch 20/20\n",
      "7982/7982 [==============================] - 1s 118us/step - loss: 0.1152 - accuracy: 0.9567 - val_loss: 1.0766 - val_accuracy: 0.8090\n"
     ]
    }
   ],
   "source": [
    "history = model.fit(partial_x_train,\n",
    "                    partial_y_train,\n",
    "                    epochs=20,\n",
    "                    batch_size=512,\n",
    "                    validation_data=(x_val, y_val))"
   ]
  },
  {
   "cell_type": "code",
   "execution_count": 23,
   "metadata": {
    "colab": {
     "base_uri": "https://localhost:8080/",
     "height": 295
    },
    "colab_type": "code",
    "id": "eqJnYvjIuYUC",
    "outputId": "7b898483-809a-4b81-e432-0b56f7c9b1d6"
   },
   "outputs": [
    {
     "data": {
      "image/png": "[encoded data removed]",
      "text/plain": [
       "<Figure size 432x288 with 1 Axes>"
      ]
     },
     "metadata": {
      "needs_background": "light",
      "tags": []
     },
     "output_type": "display_data"
    }
   ],
   "source": [
    "import matplotlib.pyplot as plt\n",
    "\n",
    "loss = history.history['loss']\n",
    "val_loss = history.history['val_loss']\n",
    "\n",
    "epochs = range(1, len(loss) + 1)\n",
    "\n",
    "plt.plot(epochs, loss, 'bo', label='Training loss')\n",
    "plt.plot(epochs, val_loss, 'b', label='Validation loss')\n",
    "plt.title('Training and validation loss')\n",
    "plt.xlabel('Epochs')\n",
    "plt.ylabel('Loss')\n",
    "plt.legend()\n",
    "\n",
    "plt.show()"
   ]
  },
  {
   "cell_type": "code",
   "execution_count": 25,
   "metadata": {
    "colab": {
     "base_uri": "https://localhost:8080/",
     "height": 295
    },
    "colab_type": "code",
    "id": "qdlgPfjFueel",
    "outputId": "985518f9-b40d-4c93-8031-6bcdd5040c3a"
   },
   "outputs": [
    {
     "data": {
      "image/png": "[encoded data removed]",
      "text/plain": [
       "<Figure size 432x288 with 1 Axes>"
      ]
     },
     "metadata": {
      "needs_background": "light",
      "tags": []
     },
     "output_type": "display_data"
    }
   ],
   "source": [
    "plt.clf()   # clear figure\n",
    "\n",
    "acc = history.history['accuracy']\n",
    "val_acc = history.history['val_accuracy']\n",
    "\n",
    "plt.plot(epochs, acc, 'bo', label='Training acc')\n",
    "plt.plot(epochs, val_acc, 'b', label='Validation acc')\n",
    "plt.title('Training and validation accuracy')\n",
    "plt.xlabel('Epochs')\n",
    "plt.ylabel('Loss')\n",
    "plt.legend()\n",
    "\n",
    "plt.show()"
   ]
  },
  {
   "cell_type": "markdown",
   "metadata": {
    "colab_type": "text",
    "id": "7-3UmiGHurUL"
   },
   "source": [
    "It seems that the network starts overfitting after 8 epochs. Let's train a new network from scratch for 8 epochs, then let's evaluate it on the test set:"
   ]
  },
  {
   "cell_type": "code",
   "execution_count": 47,
   "metadata": {
    "colab": {
     "base_uri": "https://localhost:8080/",
     "height": 323
    },
    "colab_type": "code",
    "id": "0BPXo0FEuhog",
    "outputId": "cc92aa6d-f5b3-436f-bea8-2254a6358e21"
   },
   "outputs": [
    {
     "name": "stdout",
     "output_type": "stream",
     "text": [
      "Train on 7982 samples, validate on 1000 samples\n",
      "Epoch 1/8\n",
      "7982/7982 [==============================] - 1s 121us/step - loss: 2.5217 - accuracy: 0.5347 - val_loss: 1.6693 - val_accuracy: 0.6370\n",
      "Epoch 2/8\n",
      "7982/7982 [==============================] - 1s 112us/step - loss: 1.3740 - accuracy: 0.7052 - val_loss: 1.2833 - val_accuracy: 0.7140\n",
      "Epoch 3/8\n",
      "7982/7982 [==============================] - 1s 115us/step - loss: 1.0251 - accuracy: 0.7793 - val_loss: 1.1201 - val_accuracy: 0.7540\n",
      "Epoch 4/8\n",
      "7982/7982 [==============================] - 1s 112us/step - loss: 0.8079 - accuracy: 0.8306 - val_loss: 1.0267 - val_accuracy: 0.7900\n",
      "Epoch 5/8\n",
      "7982/7982 [==============================] - 1s 113us/step - loss: 0.6370 - accuracy: 0.8663 - val_loss: 0.9560 - val_accuracy: 0.8010\n",
      "Epoch 6/8\n",
      "7982/7982 [==============================] - 1s 113us/step - loss: 0.5077 - accuracy: 0.8941 - val_loss: 0.9139 - val_accuracy: 0.8040\n",
      "Epoch 7/8\n",
      "7982/7982 [==============================] - 1s 115us/step - loss: 0.4033 - accuracy: 0.9159 - val_loss: 0.8809 - val_accuracy: 0.8170\n",
      "Epoch 8/8\n",
      "7982/7982 [==============================] - 1s 113us/step - loss: 0.3276 - accuracy: 0.9317 - val_loss: 0.8716 - val_accuracy: 0.8250\n",
      "2246/2246 [==============================] - 0s 79us/step\n"
     ]
    }
   ],
   "source": [
    "model = models.Sequential()\n",
    "model.add(layers.Dense(64, activation='relu', input_shape=(10000,)))\n",
    "model.add(layers.Dense(64, activation='relu'))\n",
    "model.add(layers.Dense(46, activation='softmax'))\n",
    "\n",
    "model.compile(optimizer='rmsprop',\n",
    "              loss='categorical_crossentropy',\n",
    "              metrics=['accuracy'])\n",
    "model.fit(partial_x_train,\n",
    "          partial_y_train,\n",
    "          epochs=8,\n",
    "          batch_size=512,\n",
    "          validation_data=(x_val, y_val))\n",
    "results = model.evaluate(x_test, one_hot_test_labels)"
   ]
  },
  {
   "cell_type": "code",
   "execution_count": 46,
   "metadata": {
    "colab": {
     "base_uri": "https://localhost:8080/",
     "height": 34
    },
    "colab_type": "code",
    "id": "pc9Xdl85uxaW",
    "outputId": "4deb155e-9cdf-4042-e85d-8db62856fa3f"
   },
   "outputs": [
    {
     "data": {
      "text/plain": [
       "[1.829051171682397, 0.5503116846084595]"
      ]
     },
     "execution_count": 46,
     "metadata": {
      "tags": []
     },
     "output_type": "execute_result"
    }
   ],
   "source": [
    "results"
   ]
  },
  {
   "cell_type": "markdown",
   "metadata": {
    "colab_type": "text",
    "id": "YnFW7F7Vu2Un"
   },
   "source": [
    "Our approach reaches an accuracy of ~75%. "
   ]
  },
  {
   "cell_type": "code",
   "execution_count": null,
   "metadata": {
    "colab": {},
    "colab_type": "code",
    "id": "nX4jR7ZLu0ZE"
   },
   "outputs": [],
   "source": []
  },
  {
   "cell_type": "markdown",
   "metadata": {
    "colab_type": "text",
    "id": "XI28fyuXvBc7"
   },
   "source": [
    "# Generating predictions on new data"
   ]
  },
  {
   "cell_type": "code",
   "execution_count": 28,
   "metadata": {
    "colab": {},
    "colab_type": "code",
    "id": "BIsi7Zi4vCHj"
   },
   "outputs": [],
   "source": [
    "predictions = model.predict(x_test)"
   ]
  },
  {
   "cell_type": "code",
   "execution_count": 29,
   "metadata": {
    "colab": {
     "base_uri": "https://localhost:8080/",
     "height": 34
    },
    "colab_type": "code",
    "id": "EzCunyY2vDjJ",
    "outputId": "10a11a8b-1551-4585-ea59-b97dc146b24b"
   },
   "outputs": [
    {
     "data": {
      "text/plain": [
       "(46,)"
      ]
     },
     "execution_count": 29,
     "metadata": {
      "tags": []
     },
     "output_type": "execute_result"
    }
   ],
   "source": [
    "predictions[0].shape"
   ]
  },
  {
   "cell_type": "code",
   "execution_count": 30,
   "metadata": {
    "colab": {
     "base_uri": "https://localhost:8080/",
     "height": 34
    },
    "colab_type": "code",
    "id": "dcyxd-MhvF5L",
    "outputId": "1fa009f9-d378-46a5-feca-08b0c7342b09"
   },
   "outputs": [
    {
     "data": {
      "text/plain": [
       "1.0000001"
      ]
     },
     "execution_count": 30,
     "metadata": {
      "tags": []
     },
     "output_type": "execute_result"
    }
   ],
   "source": [
    "np.sum(predictions[0])"
   ]
  },
  {
   "cell_type": "code",
   "execution_count": 31,
   "metadata": {
    "colab": {
     "base_uri": "https://localhost:8080/",
     "height": 34
    },
    "colab_type": "code",
    "id": "z7-PUcYZvHc3",
    "outputId": "930504dc-4968-43d7-f6e7-b4de83046c6b"
   },
   "outputs": [
    {
     "data": {
      "text/plain": [
       "3"
      ]
     },
     "execution_count": 31,
     "metadata": {
      "tags": []
     },
     "output_type": "execute_result"
    }
   ],
   "source": [
    "np.argmax(predictions[0])"
   ]
  },
  {
   "cell_type": "code",
   "execution_count": 36,
   "metadata": {
    "colab": {
     "base_uri": "https://localhost:8080/",
     "height": 34
    },
    "colab_type": "code",
    "id": "aJNCAIAgvJRX",
    "outputId": "e566a5e0-822e-40de-fec7-241171934a1b"
   },
   "outputs": [
    {
     "data": {
      "text/plain": [
       "array([ 3, 10,  1, ...,  3,  3, 24])"
      ]
     },
     "execution_count": 36,
     "metadata": {
      "tags": []
     },
     "output_type": "execute_result"
    }
   ],
   "source": [
    "test_labels"
   ]
  },
  {
   "cell_type": "code",
   "execution_count": 39,
   "metadata": {
    "colab": {
     "base_uri": "https://localhost:8080/",
     "height": 34
    },
    "colab_type": "code",
    "id": "oCWVs-nRvUHk",
    "outputId": "0f29aa82-086c-4aa7-e983-bf68724e534c"
   },
   "outputs": [
    {
     "data": {
      "text/plain": [
       "3"
      ]
     },
     "execution_count": 39,
     "metadata": {
      "tags": []
     },
     "output_type": "execute_result"
    }
   ],
   "source": [
    "test_labels[0]"
   ]
  },
  {
   "cell_type": "code",
   "execution_count": null,
   "metadata": {
    "colab": {},
    "colab_type": "code",
    "id": "gRAMBaXnvWy8"
   },
   "outputs": [],
   "source": []
  },
  {
   "cell_type": "markdown",
   "metadata": {
    "colab_type": "text",
    "id": "TPKZQD5fwCVv"
   },
   "source": [
    "# On the importance of having sufficiently large intermediate layers¶"
   ]
  },
  {
   "cell_type": "code",
   "execution_count": null,
   "metadata": {
    "colab": {},
    "colab_type": "code",
    "id": "DtgezgHVwDDj"
   },
   "outputs": [],
   "source": []
  },
  {
   "cell_type": "markdown",
   "metadata": {
    "colab_type": "text",
    "id": "_Is63cfpwF_u"
   },
   "source": [
    "We mentioned earlier that since our final outputs were 46-dimensional, we should avoid intermediate layers with much less than 46 hidden units. Now let's try to see what happens when we introduce an information bottleneck by having intermediate layers significantly less than 46-dimensional, e.g. 4-dimensional."
   ]
  },
  {
   "cell_type": "code",
   "execution_count": 48,
   "metadata": {
    "colab": {
     "base_uri": "https://localhost:8080/",
     "height": 731
    },
    "colab_type": "code",
    "id": "HHS7CPlPwG9L",
    "outputId": "c4565ec5-52a9-4161-bb40-37ca268fa874"
   },
   "outputs": [
    {
     "name": "stdout",
     "output_type": "stream",
     "text": [
      "Train on 7982 samples, validate on 1000 samples\n",
      "Epoch 1/20\n",
      "7982/7982 [==============================] - 1s 149us/step - loss: 2.6896 - accuracy: 0.3558 - val_loss: 1.9455 - val_accuracy: 0.5150\n",
      "Epoch 2/20\n",
      "7982/7982 [==============================] - 1s 149us/step - loss: 1.6082 - accuracy: 0.5948 - val_loss: 1.4929 - val_accuracy: 0.6310\n",
      "Epoch 3/20\n",
      "7982/7982 [==============================] - 1s 155us/step - loss: 1.2619 - accuracy: 0.6907 - val_loss: 1.3668 - val_accuracy: 0.6920\n",
      "Epoch 4/20\n",
      "7982/7982 [==============================] - 1s 153us/step - loss: 1.0817 - accuracy: 0.7375 - val_loss: 1.3353 - val_accuracy: 0.6870\n",
      "Epoch 5/20\n",
      "7982/7982 [==============================] - 1s 157us/step - loss: 0.9652 - accuracy: 0.7509 - val_loss: 1.2791 - val_accuracy: 0.7030\n",
      "Epoch 6/20\n",
      "7982/7982 [==============================] - 1s 152us/step - loss: 0.8780 - accuracy: 0.7679 - val_loss: 1.2952 - val_accuracy: 0.7050\n",
      "Epoch 7/20\n",
      "7982/7982 [==============================] - 1s 157us/step - loss: 0.8047 - accuracy: 0.7834 - val_loss: 1.2871 - val_accuracy: 0.7100\n",
      "Epoch 8/20\n",
      "7982/7982 [==============================] - 1s 153us/step - loss: 0.7430 - accuracy: 0.7985 - val_loss: 1.2947 - val_accuracy: 0.7160\n",
      "Epoch 9/20\n",
      "7982/7982 [==============================] - 1s 156us/step - loss: 0.6889 - accuracy: 0.8106 - val_loss: 1.3545 - val_accuracy: 0.7230\n",
      "Epoch 10/20\n",
      "7982/7982 [==============================] - 1s 154us/step - loss: 0.6422 - accuracy: 0.8173 - val_loss: 1.3626 - val_accuracy: 0.7170\n",
      "Epoch 11/20\n",
      "7982/7982 [==============================] - 1s 151us/step - loss: 0.5998 - accuracy: 0.8260 - val_loss: 1.4409 - val_accuracy: 0.7120\n",
      "Epoch 12/20\n",
      "7982/7982 [==============================] - 1s 150us/step - loss: 0.5623 - accuracy: 0.8378 - val_loss: 1.4912 - val_accuracy: 0.7090\n",
      "Epoch 13/20\n",
      "7982/7982 [==============================] - 1s 152us/step - loss: 0.5269 - accuracy: 0.8498 - val_loss: 1.4917 - val_accuracy: 0.7130\n",
      "Epoch 14/20\n",
      "7982/7982 [==============================] - 1s 147us/step - loss: 0.4997 - accuracy: 0.8545 - val_loss: 1.5304 - val_accuracy: 0.7170\n",
      "Epoch 15/20\n",
      "7982/7982 [==============================] - 1s 149us/step - loss: 0.4747 - accuracy: 0.8621 - val_loss: 1.5959 - val_accuracy: 0.7120\n",
      "Epoch 16/20\n",
      "7982/7982 [==============================] - 1s 150us/step - loss: 0.4515 - accuracy: 0.8702 - val_loss: 1.6552 - val_accuracy: 0.7140\n",
      "Epoch 17/20\n",
      "7982/7982 [==============================] - 1s 150us/step - loss: 0.4311 - accuracy: 0.8780 - val_loss: 1.7234 - val_accuracy: 0.7130\n",
      "Epoch 18/20\n",
      "7982/7982 [==============================] - 1s 147us/step - loss: 0.4129 - accuracy: 0.8816 - val_loss: 1.7680 - val_accuracy: 0.7190\n",
      "Epoch 19/20\n",
      "7982/7982 [==============================] - 1s 148us/step - loss: 0.3974 - accuracy: 0.8887 - val_loss: 1.8703 - val_accuracy: 0.7120\n",
      "Epoch 20/20\n",
      "7982/7982 [==============================] - 1s 153us/step - loss: 0.3806 - accuracy: 0.8921 - val_loss: 1.8937 - val_accuracy: 0.7090\n"
     ]
    },
    {
     "data": {
      "text/plain": [
       "<keras.callbacks.callbacks.History at 0x7f9aa3964f98>"
      ]
     },
     "execution_count": 48,
     "metadata": {
      "tags": []
     },
     "output_type": "execute_result"
    }
   ],
   "source": [
    "model = models.Sequential()\n",
    "model.add(layers.Dense(64, activation='relu', input_shape=(10000,)))\n",
    "model.add(layers.Dense(4, activation='relu'))\n",
    "model.add(layers.Dense(46, activation='softmax'))\n",
    "\n",
    "model.compile(optimizer='rmsprop',\n",
    "              loss='categorical_crossentropy',\n",
    "              metrics=['accuracy'])\n",
    "model.fit(partial_x_train,\n",
    "          partial_y_train,\n",
    "          epochs=20,\n",
    "          batch_size=128,\n",
    "          validation_data=(x_val, y_val))"
   ]
  },
  {
   "cell_type": "code",
   "execution_count": null,
   "metadata": {
    "colab": {},
    "colab_type": "code",
    "id": "Ep_TVf90wKAN"
   },
   "outputs": [],
   "source": []
  },
  {
   "cell_type": "markdown",
   "metadata": {
    "colab_type": "text",
    "id": "CaAA1jrSw1fT"
   },
   "source": [
    "Our network now seems to peak at ~71% test accuracy, a 9% absolute drop."
   ]
  },
  {
   "cell_type": "code",
   "execution_count": null,
   "metadata": {
    "colab": {},
    "colab_type": "code",
    "id": "_xl4oktdw180"
   },
   "outputs": [],
   "source": []
  },
  {
   "cell_type": "markdown",
   "metadata": {
    "colab_type": "text",
    "id": "aLoLOyqrxwzf"
   },
   "source": [
    "# Summary \n",
    "\n",
    "Here's what you should take away from this example:\n",
    "\n",
    "- If you are trying to classify data points between N classes, your network should end with a Dense layer of size N.\n",
    "\n",
    "- In a single-label, multi-class classification problem, your network should end with a softmax activation, so that it will output a probability distribution over the N output classes.\n",
    "\n",
    "- Categorical crossentropy is almost always the loss function you should use for such problems. It minimizes the distance between the probability distributions output by the network, and the true distribution of the targets.\n",
    "\n",
    "- There are two ways to handle labels in multi-class classification: Encoding the labels via \"categorical encoding\" (also known as \"one-hot encoding\") and using categorical_crossentropy as your loss function. Encoding the labels as integers and using the sparse_categorical_crossentropy loss function.\n",
    "\n",
    "- If you need to classify data into a large number of categories, then you should avoid creating information bottlenecks in your network by having intermediate layers that are too small."
   ]
  },
  {
   "cell_type": "code",
   "execution_count": null,
   "metadata": {
    "colab": {},
    "colab_type": "code",
    "id": "wmPPiSbyx51h"
   },
   "outputs": [],
   "source": []
  }
 ],
 "metadata": {
  "colab": {
   "collapsed_sections": [],
   "name": "3.6-classifying-newswires.ipynb",
   "provenance": []
  },
  "kernelspec": {
   "display_name": "Python 3",
   "language": "python",
   "name": "python3"
  },
  "language_info": {
   "codemirror_mode": {
    "name": "ipython",
    "version": 3
   },
   "file_extension": ".py",
   "mimetype": "text/x-python",
   "name": "python",
   "nbconvert_exporter": "python",
   "pygments_lexer": "ipython3",
   "version": "3.6.5"
  },
  "toc": {
   "base_numbering": 1,
   "nav_menu": {},
   "number_sections": true,
   "sideBar": true,
   "skip_h1_title": false,
   "title_cell": "Table of Contents",
   "title_sidebar": "Contents",
   "toc_cell": false,
   "toc_position": {},
   "toc_section_display": true,
   "toc_window_display": false
  }
 },
 "nbformat": 4,
 "nbformat_minor": 1
}
